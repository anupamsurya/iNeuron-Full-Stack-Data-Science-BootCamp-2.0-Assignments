{
 "cells": [
  {
   "cell_type": "markdown",
   "id": "05aa06c2",
   "metadata": {},
   "source": [
    "# Assignment 12 Solutions"
   ]
  },
  {
   "cell_type": "markdown",
   "id": "b31e985c",
   "metadata": {},
   "source": [
    "#### 1. In what modes should the PdfFileReader() and PdfFileWriter() File objects will be opened?"
   ]
  },
  {
   "cell_type": "markdown",
   "id": "92a47db8",
   "metadata": {},
   "source": [
    "Ans: `PdfFileReader()` file objects should be opened in `rb`(read binary mode), Whereas for `PdfFileWriter()` file objects should be opened in `wb`(write binary mode)."
   ]
  },
  {
   "cell_type": "markdown",
   "id": "6cd4ebf5",
   "metadata": {},
   "source": [
    "#### 2. From a PdfFileReader object, how do you get a Page object for page 5?"
   ]
  },
  {
   "cell_type": "markdown",
   "id": "42c4dbb2",
   "metadata": {},
   "source": [
    "Ans: `PdfFileReader` class provides a method called `getPage(page_no)` to get a page object."
   ]
  },
  {
   "cell_type": "code",
   "execution_count": null,
   "id": "e84b15a6",
   "metadata": {},
   "outputs": [],
   "source": [
    "# example:\n",
    "pip install PyPDF2  # install PyPDF2 library \n",
    "from PyPDF2 import PdfFileReader\n",
    "pdf_reader = PdfFileReader(file_path)\n",
    "for page in pdf_reader.getNumPages():\n",
    "    pdf_reader.getPage(page)"
   ]
  },
  {
   "cell_type": "markdown",
   "id": "81e4677e",
   "metadata": {},
   "source": [
    "#### 3. What PdfFileReader variable stores the number of pages in the PDF document?"
   ]
  },
  {
   "cell_type": "markdown",
   "id": "fedd148a",
   "metadata": {},
   "source": [
    "Ans:  In `PdfFileReader` class `getNumPages()` method stores the no pages in a PDF document"
   ]
  },
  {
   "cell_type": "code",
   "execution_count": null,
   "id": "e185b52e",
   "metadata": {},
   "outputs": [],
   "source": [
    "#example:\n",
    "from PyPDF2 import PdfFileReader\n",
    "pdf_reader = PdfFileReader(file_path)\n",
    "print(pdf_reader.getNumPages()) # Prints the no of pages in a input document"
   ]
  },
  {
   "cell_type": "markdown",
   "id": "37873daa",
   "metadata": {},
   "source": [
    "#### 4. If a PdfFileReader object’s PDF is encrypted with the password swordfish, what must you do before you can obtain Page objects from it?"
   ]
  },
  {
   "cell_type": "markdown",
   "id": "c37209e5",
   "metadata": {},
   "source": [
    "Ans: If a `PdfFileReader` object’s PDF is encrypted with the password swordfish and if you're not aware of it. first read the Pdf using the `PdfFileReade`r Class. `PdfFileReader` class provides a attribute called `isEncrypted` to check whether a pdf is encrypted or not. the method returns `true` if a pdf is encrypted and vice versa.\n",
    "if pdf is encrypted use the `decrypt()` method provided by `PdfFileReader` class first then try to read the contents/pages of the pdf, else `PyPDF2` will raise the following error `PyPDF2.utils.PdfReadError: file has not been decrypted`"
   ]
  },
  {
   "cell_type": "code",
   "execution_count": null,
   "id": "d39c3c22",
   "metadata": {},
   "outputs": [],
   "source": [
    "#example:\n",
    "from PyPDF2 import PdfFileReader\n",
    "pdf_reader = PdfFileReader(file_path)\n",
    "if pdf_reader.isEncrypted: # to check whether the pdf is encrypted or not\n",
    "    pdf_reader.decrypt(\"swordfish\")\n",
    "for page in pdf_reader.pages:\n",
    "    print(page.extractText()) # to print the text data of a page from pdf"
   ]
  },
  {
   "cell_type": "markdown",
   "id": "cb41a99d",
   "metadata": {},
   "source": [
    "#### 5. What methods do you use to rotate a page?"
   ]
  },
  {
   "cell_type": "markdown",
   "id": "90995f7c",
   "metadata": {},
   "source": [
    "Ans: To rotate a page `rotateClockwise()` and `rotateCounterClockwise()` methods can be used. The degrees to rotate is passed as an integer argument"
   ]
  },
  {
   "cell_type": "markdown",
   "id": "6eda6743",
   "metadata": {},
   "source": [
    "#### 6. What is the difference between a Run object and a Paragraph object?"
   ]
  },
  {
   "cell_type": "markdown",
   "id": "77f93ac0",
   "metadata": {},
   "source": [
    "Ans.\n",
    "* Paragraph Object : A document contains multiple paragraphs. A paragraph begins on a new line and contains multiple runs. The Document object contains a list of Paragraph objects for the paragraphs in the document. (A new paragraph begins whenever the user presses ENTER or RETURN while typing in a Word document.)\n",
    "* Run Objects : Runs are contiguous groups of characters within a paragraph with the same style"
   ]
  },
  {
   "cell_type": "markdown",
   "id": "eafdcad1",
   "metadata": {},
   "source": [
    "#### 7. How do you obtain a list of Paragraph objects for a Document object that’s stored in a variable named doc?"
   ]
  },
  {
   "cell_type": "code",
   "execution_count": null,
   "id": "f32a2838",
   "metadata": {},
   "outputs": [],
   "source": [
    "#!pip install python-docx\n",
    "import docx\n",
    "doc = docx.Document('file_name.docx')\n",
    "doc.paragraphs\n",
    "#By using doc.paragraphs"
   ]
  },
  {
   "cell_type": "markdown",
   "id": "dc00e8d1",
   "metadata": {},
   "source": [
    "#### 8. What type of object has bold, underline, italic, strike, and outline variables?"
   ]
  },
  {
   "cell_type": "markdown",
   "id": "316bb195",
   "metadata": {},
   "source": [
    "Ans. A `Run` object has bold, underline, italic, strike and outline variables."
   ]
  },
  {
   "cell_type": "markdown",
   "id": "f3f0ebb8",
   "metadata": {},
   "source": [
    "#### 9. What is the difference between False, True, and None for the bold variable?"
   ]
  },
  {
   "cell_type": "code",
   "execution_count": null,
   "id": "d5038052",
   "metadata": {},
   "outputs": [],
   "source": [
    "bold = True  # Style Set to Bold\n",
    "bold = False # Style Not Set to Bold\n",
    "bold = None # Style is Not Applicable"
   ]
  },
  {
   "cell_type": "markdown",
   "id": "032f246f",
   "metadata": {},
   "source": [
    "#### 10. How do you create a Document object for a new Word document?"
   ]
  },
  {
   "cell_type": "markdown",
   "id": "263a1b4e",
   "metadata": {},
   "source": [
    "Ans. By Calling the `docx.Document()` function we can create Document object for a new Word document."
   ]
  },
  {
   "cell_type": "code",
   "execution_count": null,
   "id": "ac6cf2c8",
   "metadata": {},
   "outputs": [],
   "source": [
    "from docx import Document\n",
    "document = Document()\n",
    "document.add_paragraph(\"This is sample text.\")\n",
    "document.save('doc_file_name.docx')"
   ]
  },
  {
   "cell_type": "markdown",
   "id": "f9ff819e",
   "metadata": {},
   "source": [
    "#### 11. How do you add a paragraph with the text 'Hello, there!' to a Document object stored in a variable named doc?"
   ]
  },
  {
   "cell_type": "code",
   "execution_count": null,
   "id": "df210ef2",
   "metadata": {},
   "outputs": [],
   "source": [
    "import docx\n",
    "doc = docx.Document()\n",
    "doc.add_paragraph('Hello there!')\n",
    "doc.save('hello.docx')"
   ]
  },
  {
   "cell_type": "markdown",
   "id": "ba7327cd",
   "metadata": {},
   "source": [
    "#### 12. What integers represent the levels of headings available in Word documents?"
   ]
  },
  {
   "cell_type": "markdown",
   "id": "242209ed",
   "metadata": {},
   "source": [
    "Ans:\n",
    "* integer from `0` to `4` represent the levels of headings available in Word documents.\n",
    "* The arguments to `add_heading()` are a string of the heading text and an integer from 0 to 4. The integer `0` makes the heading the `Title style`, which is used for the top of the document. Integers 1 to 4 are for various heading levels, with 1 being the main heading and 4 the lowest subheading"
   ]
  }
 ],
 "metadata": {
  "kernelspec": {
   "display_name": "Python 3 (ipykernel)",
   "language": "python",
   "name": "python3"
  },
  "language_info": {
   "codemirror_mode": {
    "name": "ipython",
    "version": 3
   },
   "file_extension": ".py",
   "mimetype": "text/x-python",
   "name": "python",
   "nbconvert_exporter": "python",
   "pygments_lexer": "ipython3",
   "version": "3.9.12"
  }
 },
 "nbformat": 4,
 "nbformat_minor": 5
}
