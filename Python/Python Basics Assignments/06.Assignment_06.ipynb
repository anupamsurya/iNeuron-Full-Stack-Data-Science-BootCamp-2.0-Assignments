{
 "cells": [
  {
   "cell_type": "markdown",
   "id": "2277681f",
   "metadata": {},
   "source": [
    "# Assignment 6 Solutions"
   ]
  },
  {
   "cell_type": "markdown",
   "id": "ba446688",
   "metadata": {},
   "source": [
    "#### 1.What are Escape characters ? and how do you use them ?"
   ]
  },
  {
   "cell_type": "markdown",
   "id": "16f83770",
   "metadata": {},
   "source": [
    "Ans: Escape characters represent characters in string values that would otherwise be difficult or impossible to type into code. we can use the backslash `character` to escape a single character or symbol.\n",
    "\n",
    "`example: \\t, \\n`"
   ]
  },
  {
   "cell_type": "markdown",
   "id": "a404c264",
   "metadata": {},
   "source": [
    "#### 2.What do the escape characters n and t stand for ?"
   ]
  },
  {
   "cell_type": "markdown",
   "id": "a1f9672f",
   "metadata": {},
   "source": [
    "Ans: `\\n` stands for the `newline` and `\\t`stands for the `tab`"
   ]
  },
  {
   "cell_type": "markdown",
   "id": "39b29f31",
   "metadata": {},
   "source": [
    "#### 3.What is the way to include backslash character in a string?"
   ]
  },
  {
   "cell_type": "markdown",
   "id": "8043776d",
   "metadata": {},
   "source": [
    "Ans: The `\\\\` escape character will represent the backslash character in a string."
   ]
  },
  {
   "cell_type": "markdown",
   "id": "fbf39954",
   "metadata": {},
   "source": [
    "#### 4.The string \"Howl's Moving Castle\" is a correct value. Why isn't the single quote character in the word Howl's not escaped a problem ?"
   ]
  },
  {
   "cell_type": "markdown",
   "id": "89b5079a",
   "metadata": {},
   "source": [
    "Ans: The string `\"Howl's Moving Castle\"` escaped the problem because it is wrapped inside double quotes. if its wrapped inside single quotes then we have to use escape character `\\'` to show single quote in the final output\n",
    "`'Howl\\'s Moving Castle' -> 'Howl's Moving Castle'`"
   ]
  },
  {
   "cell_type": "markdown",
   "id": "1fb54bd6",
   "metadata": {},
   "source": [
    "#### 5.How do you write a string of newlines if you don't want to use the n character?"
   ]
  },
  {
   "cell_type": "markdown",
   "id": "05669da8",
   "metadata": {},
   "source": [
    "Ans: Multiline string allow you to use newlines in string without the `\\n` escape character "
   ]
  },
  {
   "cell_type": "code",
   "execution_count": 6,
   "id": "9dd01821",
   "metadata": {},
   "outputs": [
    {
     "name": "stdout",
     "output_type": "stream",
     "text": [
      "Full stack Data Science Course 2.0\n",
      "Sep 2022 Batch\n"
     ]
    }
   ],
   "source": [
    "#example:\n",
    "a = '''Full stack Data Science Course 2.0\n",
    "Sep 2022 Batch'''\n",
    "print(a)"
   ]
  },
  {
   "cell_type": "markdown",
   "id": "66123c99",
   "metadata": {},
   "source": [
    "#### 6.What are the values of the given expressions ?\n",
    "'Hello, world!'[1]  \n",
    "'Hello, world!'[0:5]  \n",
    "'Hello, world!'[:5]  \n",
    "'Hello, world!'[3:] "
   ]
  },
  {
   "cell_type": "markdown",
   "id": "d87aff52",
   "metadata": {},
   "source": [
    "Ans: The values for the given expressions are:  "
   ]
  },
  {
   "cell_type": "code",
   "execution_count": 21,
   "id": "61d94860",
   "metadata": {},
   "outputs": [
    {
     "name": "stdout",
     "output_type": "stream",
     "text": [
      "'Hello, world!'[1] --> e\n",
      "'Hello, world!'[0:5] --> Hello\n",
      "'Hello, world!'[:5] --> Hello\n",
      "'Hello, world!'[3:] --> lo, world!\n"
     ]
    }
   ],
   "source": [
    "print(\"'Hello, world!'[1] -->\", 'Hello, world!'[1])\n",
    "print(\"'Hello, world!'[0:5] -->\", 'Hello, world!'[0:5])\n",
    "print(\"'Hello, world!'[:5] -->\", 'Hello, world!'[:5])\n",
    "print(\"'Hello, world!'[3:] -->\", 'Hello, world!'[3:])"
   ]
  },
  {
   "cell_type": "markdown",
   "id": "5deb6ad3",
   "metadata": {},
   "source": [
    "#### 7.What are the values of the following expressions ?\n",
    "'Hello'.upper()  \n",
    "'Hello'.upper().isupper()  \n",
    "'Hello'.upper().lower() "
   ]
  },
  {
   "cell_type": "markdown",
   "id": "1def020a",
   "metadata": {},
   "source": [
    "Ans: The values for the given expressions are as follows: "
   ]
  },
  {
   "cell_type": "code",
   "execution_count": 24,
   "id": "be9eb012",
   "metadata": {},
   "outputs": [
    {
     "name": "stdout",
     "output_type": "stream",
     "text": [
      "'Hello'.upper() --> HELLO\n",
      "'Hello'.upper().isupper() --> True\n",
      "'Hello'.upper().lower() --> hello\n"
     ]
    }
   ],
   "source": [
    "print(\"'Hello'.upper() -->\", 'Hello'.upper())\n",
    "print(\"'Hello'.upper().isupper() -->\", 'Hello'.upper().isupper())\n",
    "print(\"'Hello'.upper().lower() -->\", 'Hello'.upper().lower() )     "
   ]
  },
  {
   "cell_type": "markdown",
   "id": "0916e0c0",
   "metadata": {},
   "source": [
    "#### 8.What are the values of the following expressions ?\n",
    "'Remember, remember, the fifith of July.'.split()  \n",
    "-'.join('There can only one'.split())"
   ]
  },
  {
   "cell_type": "markdown",
   "id": "8c39fb98",
   "metadata": {},
   "source": [
    "Ans: The values for the given expressions are as follows: "
   ]
  },
  {
   "cell_type": "code",
   "execution_count": 30,
   "id": "30daecd7",
   "metadata": {},
   "outputs": [
    {
     "name": "stdout",
     "output_type": "stream",
     "text": [
      "'Remember, remember, the fifith of July.'.split() --> ['Remember,', 'remember,', 'the', 'fifith', 'of', 'July.']\n"
     ]
    }
   ],
   "source": [
    "print(\"'Remember, remember, the fifith of July.'.split() -->\", 'Remember, remember, the fifith of July.'.split())"
   ]
  },
  {
   "cell_type": "code",
   "execution_count": 32,
   "id": "9be77cf3",
   "metadata": {},
   "outputs": [
    {
     "name": "stdout",
     "output_type": "stream",
     "text": [
      "'-'.join('There can only one'.split()) --> There-can-only-one\n"
     ]
    }
   ],
   "source": [
    "print(\"'-'.join('There can only one'.split()) -->\",'-'.join('There can only one'.split()))"
   ]
  },
  {
   "cell_type": "markdown",
   "id": "67ea85a7",
   "metadata": {},
   "source": [
    "#### 9.What are the methods for right-justifying, left-justifying and centering a string ?"
   ]
  },
  {
   "cell_type": "markdown",
   "id": "83765f82",
   "metadata": {},
   "source": [
    "Ans: The `rjust()`,`ljust()`,`center()` string methods, respectively"
   ]
  },
  {
   "cell_type": "markdown",
   "id": "47478ee7",
   "metadata": {},
   "source": [
    "#### 10.What is the best way to remove whitespace characters from the start or end ?"
   ]
  },
  {
   "cell_type": "markdown",
   "id": "085dd687",
   "metadata": {},
   "source": [
    "Ans: The `lstrip()` and `rstrip()` methods remove whitesapce characters from the left and right ends of a string respectively"
   ]
  }
 ],
 "metadata": {
  "kernelspec": {
   "display_name": "Python 3 (ipykernel)",
   "language": "python",
   "name": "python3"
  },
  "language_info": {
   "codemirror_mode": {
    "name": "ipython",
    "version": 3
   },
   "file_extension": ".py",
   "mimetype": "text/x-python",
   "name": "python",
   "nbconvert_exporter": "python",
   "pygments_lexer": "ipython3",
   "version": "3.9.12"
  }
 },
 "nbformat": 4,
 "nbformat_minor": 5
}
