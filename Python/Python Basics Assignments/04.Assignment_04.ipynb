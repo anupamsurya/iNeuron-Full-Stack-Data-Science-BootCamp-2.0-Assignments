{
 "cells": [
  {
   "cell_type": "markdown",
   "id": "9d2599ee",
   "metadata": {},
   "source": [
    "# Assignment 4 Solutions"
   ]
  },
  {
   "cell_type": "markdown",
   "id": "9f5ca0a6",
   "metadata": {},
   "source": [
    "#### 1.What exactly is [ ]?"
   ]
  },
  {
   "cell_type": "markdown",
   "id": "7c923ab7",
   "metadata": {},
   "source": [
    "Ans: In python `list` is denoted by `[]` square brackets."
   ]
  },
  {
   "cell_type": "markdown",
   "id": "e6dfd6d4",
   "metadata": {},
   "source": [
    "#### 2.In a list of values stored in a variable called spam, how would you assign the value 'hello' as the third value? (Assume [2, 4, 6, 8, 10] are in spam.)"
   ]
  },
  {
   "cell_type": "markdown",
   "id": "ad84e897",
   "metadata": {},
   "source": [
    "Ans: `spam[2]='hello'` (Note: Lists follows zero based indexing)"
   ]
  },
  {
   "cell_type": "code",
   "execution_count": 80,
   "id": "45df3644",
   "metadata": {},
   "outputs": [
    {
     "name": "stdout",
     "output_type": "stream",
     "text": [
      "[2, 4, 'hello', 8, 10]\n"
     ]
    }
   ],
   "source": [
    "#example:\n",
    "spam = [2, 4, 6, 8, 10]\n",
    "spam[2]='hello'\n",
    "print(spam)"
   ]
  },
  {
   "cell_type": "markdown",
   "id": "2c07d179",
   "metadata": {},
   "source": [
    "### Let's pretend the spam includes the list ['a','b','c','d'] for the next three queries."
   ]
  },
  {
   "cell_type": "markdown",
   "id": "c4366c3b",
   "metadata": {},
   "source": [
    "#### 3. What is the value of `spam[int(int('3'*2)//11)] `?"
   ]
  },
  {
   "cell_type": "markdown",
   "id": "8879fec5",
   "metadata": {},
   "source": [
    "Ans: The an `'d'` as '3' * 2 is the string '33', which is passed to int() before being divided by 11. This eventually evaluates to 3, `spam[3]` is equal to `d`."
   ]
  },
  {
   "cell_type": "code",
   "execution_count": 81,
   "id": "95e9f0a3",
   "metadata": {},
   "outputs": [
    {
     "data": {
      "text/plain": [
       "'d'"
      ]
     },
     "execution_count": 81,
     "metadata": {},
     "output_type": "execute_result"
    }
   ],
   "source": [
    "#example:\n",
    "spam = ['a','b','c','d']\n",
    "spam[int(int('3'*2)//11)]"
   ]
  },
  {
   "cell_type": "markdown",
   "id": "4019f264",
   "metadata": {},
   "source": [
    "#### 4. What is the value of spam[-1]?"
   ]
  },
  {
   "cell_type": "markdown",
   "id": "75bbfe60",
   "metadata": {},
   "source": [
    "Ans: The value of `spam[-1]` is `d` as `[-1]` gives last index or negative index from the list"
   ]
  },
  {
   "cell_type": "code",
   "execution_count": 82,
   "id": "258c3497",
   "metadata": {},
   "outputs": [
    {
     "name": "stdout",
     "output_type": "stream",
     "text": [
      "spam[-1]--> d\n"
     ]
    }
   ],
   "source": [
    "#example:\n",
    "spam[-1]\n",
    "print('spam[-1]-->',spam[-1])"
   ]
  },
  {
   "cell_type": "markdown",
   "id": "c018feee",
   "metadata": {},
   "source": [
    "#### 5. What is the value of spam[:2]?"
   ]
  },
  {
   "cell_type": "markdown",
   "id": "5d027413",
   "metadata": {},
   "source": [
    "Ans: The value of `spam[:2]` is `['a', 'b']` as the list index by default starts from `0` and goes till `1` excludes `2`"
   ]
  },
  {
   "cell_type": "code",
   "execution_count": 83,
   "id": "d3c89b11",
   "metadata": {},
   "outputs": [
    {
     "name": "stdout",
     "output_type": "stream",
     "text": [
      "spam[:2]--> ['a', 'b']\n"
     ]
    }
   ],
   "source": [
    "#example:\n",
    "spam[:2]\n",
    "print('spam[:2]-->',spam[:2])"
   ]
  },
  {
   "cell_type": "markdown",
   "id": "c66fb6a7",
   "metadata": {},
   "source": [
    "## Let's pretend bacon has the list [3.14,'cat',11,'cat',True] for the next three question"
   ]
  },
  {
   "cell_type": "markdown",
   "id": "5852b62f",
   "metadata": {},
   "source": [
    "#### 6. What is the value of bacon.index('cat')?"
   ]
  },
  {
   "cell_type": "markdown",
   "id": "56258164",
   "metadata": {},
   "source": [
    "Ans: The value of `bacon.index('cat')` is `1` as index method returns the index of first occuerence of `'cat'`"
   ]
  },
  {
   "cell_type": "code",
   "execution_count": 84,
   "id": "f48f4e2d",
   "metadata": {},
   "outputs": [],
   "source": [
    "bacon = [3.14,'cat',11,'cat',True]"
   ]
  },
  {
   "cell_type": "code",
   "execution_count": 85,
   "id": "ef604aa4",
   "metadata": {},
   "outputs": [
    {
     "data": {
      "text/plain": [
       "1"
      ]
     },
     "execution_count": 85,
     "metadata": {},
     "output_type": "execute_result"
    }
   ],
   "source": [
    "bacon.index('cat')"
   ]
  },
  {
   "cell_type": "markdown",
   "id": "0bb3df90",
   "metadata": {},
   "source": [
    "#### 7. How does bacon.append(99) change the look of the list value in bacon?"
   ]
  },
  {
   "cell_type": "markdown",
   "id": "b23e34ad",
   "metadata": {},
   "source": [
    "Ans: `bacon.append(99)` appends or adds `99` in the list at the end position of the list and become `[3.14, 'cat', 11, 'cat', True, 99]`"
   ]
  },
  {
   "cell_type": "code",
   "execution_count": 86,
   "id": "209fa188",
   "metadata": {},
   "outputs": [
    {
     "name": "stdout",
     "output_type": "stream",
     "text": [
      "[3.14, 'cat', 11, 'cat', True]\n",
      "After running 'bacon.append(99)' bacon looks like --> [3.14, 'cat', 11, 'cat', True, 99]\n"
     ]
    }
   ],
   "source": [
    "#example:\n",
    "print(bacon)\n",
    "bacon.append(99)\n",
    "print(\"After running 'bacon.append(99)' bacon looks like -->\",bacon)"
   ]
  },
  {
   "cell_type": "markdown",
   "id": "15bf1f10",
   "metadata": {},
   "source": [
    "#### 8. How does bacon.remove('cat') change the look of the list in bacon?"
   ]
  },
  {
   "cell_type": "markdown",
   "id": "a70e3a90",
   "metadata": {},
   "source": [
    "Ans: The `remove` method removes the first occurence of the element in the list."
   ]
  },
  {
   "cell_type": "code",
   "execution_count": 87,
   "id": "4edb22fd",
   "metadata": {},
   "outputs": [
    {
     "name": "stdout",
     "output_type": "stream",
     "text": [
      "[3.14, 'cat', 11, 'cat', True, 99]\n",
      "After running 'bacon.remove('cat')' bacon looks like --> [3.14, 11, 'cat', True, 99]\n"
     ]
    }
   ],
   "source": [
    "#example:\n",
    "print(bacon)\n",
    "bacon.remove('cat')\n",
    "print(\"After running 'bacon.remove('cat')' bacon looks like -->\",bacon)"
   ]
  },
  {
   "cell_type": "markdown",
   "id": "e022decd",
   "metadata": {},
   "source": [
    "#### 9.what are the list concatenation and list replication operations?"
   ]
  },
  {
   "cell_type": "markdown",
   "id": "9b1163f8",
   "metadata": {},
   "source": [
    "Ans: The operator for list concatenation is `+`, while the operator for replication is `*`. This is the same as for strings."
   ]
  },
  {
   "cell_type": "code",
   "execution_count": 88,
   "id": "54eedcc2",
   "metadata": {},
   "outputs": [
    {
     "name": "stdout",
     "output_type": "stream",
     "text": [
      "['a', 'b', 'c', 'd', 'e', 'F', 'G', 'H']\n",
      "['F', 'G', 'H', 'F', 'G', 'H']\n"
     ]
    }
   ],
   "source": [
    "#example:\n",
    "list_1 = ['a','b','c','d','e']\n",
    "list_2 = ['F','G','H']\n",
    "print(list_1 + list_2) # List Concatenation\n",
    "print(list_2*2) # List Replication"
   ]
  },
  {
   "cell_type": "markdown",
   "id": "2c3ed6f9",
   "metadata": {},
   "source": [
    "#### 10.what is the difference between the list method append() and insert()?"
   ]
  },
  {
   "cell_type": "markdown",
   "id": "528d9376",
   "metadata": {},
   "source": [
    "Ans: The `append()` method will add values only to the end of the list, while the `insert()` method can add value anywhere in the list."
   ]
  },
  {
   "cell_type": "code",
   "execution_count": 89,
   "id": "7cae7559",
   "metadata": {},
   "outputs": [
    {
     "name": "stdout",
     "output_type": "stream",
     "text": [
      "[1, 2, 3, 4, 5, 6]\n",
      "[1, 2, 'test', 3, 4, 5, 6]\n"
     ]
    }
   ],
   "source": [
    "#example:\n",
    "list = [1,2,3,4,5]\n",
    "list.append(6)\n",
    "print(list)\n",
    "list.insert(2,'test')\n",
    "print(list)"
   ]
  },
  {
   "cell_type": "markdown",
   "id": "391f2af2",
   "metadata": {},
   "source": [
    "#### 11. What are the two methods for removing items from a list?"
   ]
  },
  {
   "cell_type": "markdown",
   "id": "406782de",
   "metadata": {},
   "source": [
    "Ans: The `del` statement, the `remove()` method and `pop()` method are some ways to remove values from a list."
   ]
  },
  {
   "cell_type": "markdown",
   "id": "01900b3f",
   "metadata": {},
   "source": [
    "#### 12. Describe how list values and string values are identical?"
   ]
  },
  {
   "cell_type": "markdown",
   "id": "b9843499",
   "metadata": {},
   "source": [
    "Ans: Lists and strings both can be passed to `len()` function, have indexes and slices, be used in `for` loops, be concatenated or replicated, and be used with the `in` and `not in` operators."
   ]
  },
  {
   "cell_type": "markdown",
   "id": "1184fe9a",
   "metadata": {},
   "source": [
    "#### 13. What's the difference between tuples and lists?"
   ]
  },
  {
   "cell_type": "markdown",
   "id": "e6d243cf",
   "metadata": {},
   "source": [
    "Ans: The difference between tuples and lists are as follows: \n",
    "\n",
    "Lists are represented using the square brackets `[]`. Lists are Mutable, Indexable and Slicable. They can have values added, removed, or changed. Tuples are represented using parentheses `()`. Tuples are Immutable that means the tuples values cannot be changed at all, but tuples are Indexable and Slicable."
   ]
  },
  {
   "cell_type": "markdown",
   "id": "390d4ad3",
   "metadata": {},
   "source": [
    "#### 14. How do you type a tuple value that only contains the integer 42?"
   ]
  },
  {
   "cell_type": "markdown",
   "id": "53961b11",
   "metadata": {},
   "source": [
    "Ans: (24,) (The trailing comma is mandatory. otherwise its considered as a int by python Interpreter)"
   ]
  },
  {
   "cell_type": "code",
   "execution_count": 90,
   "id": "d76cb6b8",
   "metadata": {},
   "outputs": [
    {
     "name": "stdout",
     "output_type": "stream",
     "text": [
      "<class 'int'>\n",
      "<class 'tuple'>\n"
     ]
    }
   ],
   "source": [
    "#example:\n",
    "tup1=(24)\n",
    "tup2=(24,)\n",
    "print(type(tup1))\n",
    "print(type(tup2))"
   ]
  },
  {
   "cell_type": "markdown",
   "id": "0ac31e48",
   "metadata": {},
   "source": [
    "#### 15. How do you get a list value's tuple form? How do you get a tuple value's list form?"
   ]
  },
  {
   "cell_type": "markdown",
   "id": "286a06f2",
   "metadata": {},
   "source": [
    "Ans: The `tuple()` and `list()` functions, respectively are used to convert a list to tuple and vice versa."
   ]
  },
  {
   "cell_type": "markdown",
   "id": "a48347d8",
   "metadata": {},
   "source": [
    "#### 16. Variables that \"contain\" list values are not necessarily lists themselves. Instead, what do they contain?"
   ]
  },
  {
   "cell_type": "markdown",
   "id": "33e8d959",
   "metadata": {},
   "source": [
    "Ans: They contain references to list values."
   ]
  },
  {
   "cell_type": "markdown",
   "id": "0987e8b7",
   "metadata": {},
   "source": [
    "#### 17. How do you distinguish between copy.copy() and copy.deepcopy()?"
   ]
  },
  {
   "cell_type": "markdown",
   "id": "b0d9d2cf",
   "metadata": {},
   "source": [
    "Ans: The `copy.copy()` function will do a shallow copy of a list, while the `copy.deepcopy()` function will do a deep copy of a list. That is, only `copy.deepcopy()` will duplicate any lists inside the list."
   ]
  }
 ],
 "metadata": {
  "kernelspec": {
   "display_name": "Python 3 (ipykernel)",
   "language": "python",
   "name": "python3"
  },
  "language_info": {
   "codemirror_mode": {
    "name": "ipython",
    "version": 3
   },
   "file_extension": ".py",
   "mimetype": "text/x-python",
   "name": "python",
   "nbconvert_exporter": "python",
   "pygments_lexer": "ipython3",
   "version": "3.9.12"
  }
 },
 "nbformat": 4,
 "nbformat_minor": 5
}
