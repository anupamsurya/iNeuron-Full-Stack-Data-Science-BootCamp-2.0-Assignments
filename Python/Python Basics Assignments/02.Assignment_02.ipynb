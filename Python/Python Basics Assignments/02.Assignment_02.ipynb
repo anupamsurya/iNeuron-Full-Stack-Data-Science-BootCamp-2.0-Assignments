{
 "cells": [
  {
   "cell_type": "markdown",
   "id": "8691ebab",
   "metadata": {},
   "source": [
    "# Assignment 2 Solutions"
   ]
  },
  {
   "cell_type": "markdown",
   "id": "042616be",
   "metadata": {},
   "source": [
    "#### 1. What are the two values of the boolean data types? how do you write them ?"
   ]
  },
  {
   "cell_type": "markdown",
   "id": "04cdbc39",
   "metadata": {},
   "source": [
    "Ans: There are two values of boollean it is `'True'` and `'False'` and it is case sensetive. The first letter that is `'T'` and `'F'` should write in `capital` only.\n",
    "\n",
    "it can be write as follows:"
   ]
  },
  {
   "cell_type": "code",
   "execution_count": 19,
   "id": "20e3e90d",
   "metadata": {},
   "outputs": [
    {
     "name": "stdout",
     "output_type": "stream",
     "text": [
      "True <class 'bool'>\n",
      "False <class 'bool'>\n"
     ]
    }
   ],
   "source": [
    "x = True\n",
    "y = False\n",
    "print(x,type(x))\n",
    "print(y,type(y))"
   ]
  },
  {
   "cell_type": "markdown",
   "id": "f30e392e",
   "metadata": {},
   "source": [
    "#### 2. What are the three different types of Boolean operators?"
   ]
  },
  {
   "cell_type": "markdown",
   "id": "6bf548f0",
   "metadata": {},
   "source": [
    "Ans: Three different types of boolean operators are `'or'`,`'and'`,`'not'`"
   ]
  },
  {
   "cell_type": "code",
   "execution_count": 28,
   "id": "0803423f",
   "metadata": {},
   "outputs": [
    {
     "name": "stdout",
     "output_type": "stream",
     "text": [
      "True\n",
      "True\n",
      "True\n"
     ]
    }
   ],
   "source": [
    "a = 1\n",
    "print(a>0 and a<2)\n",
    "print(a>0 or a<2)\n",
    "print(not(a>2))"
   ]
  },
  {
   "cell_type": "markdown",
   "id": "49b63ef1",
   "metadata": {},
   "source": [
    "#### 3. Make a list of each Boolean operator's truth tables (i.e. every possible combination of Boolean values for the operator and what it evaluate) ?"
   ]
  },
  {
   "cell_type": "markdown",
   "id": "dd57937a",
   "metadata": {},
   "source": [
    "Ans: The Truth tables for the boolean tables are as follows:  \n",
    "* Truth Table for `and` operaotor:  \n",
    "    _True and True is True   \n",
    "    True and False is False  \n",
    "    False and True is False  \n",
    "    False and False is False_\n",
    "    \n",
    "    \n",
    "* Truth Table for `or` operaotor:\n",
    "    _True and True is True   \n",
    "    True and False is True  \n",
    "    False and True is True  \n",
    "    False and False is False_\n",
    "    \n",
    "    \n",
    "* Truth Table for `not` operaotor:        \n",
    "    _True not is False\n",
    "    False not is True_"
   ]
  },
  {
   "cell_type": "markdown",
   "id": "e21be92b",
   "metadata": {},
   "source": [
    "#### 4. What are the values of the following expressions ?\n",
    "* (5 &gt; 4) and (3 == 5)  \n",
    "* not (5 &gt; 4)  \n",
    "* (5 &gt; 4) or (3 == 5)  \n",
    "* not ((5 &gt; 4) or (3 == 5))  \n",
    "* (True and True) and (True == False)  \n",
    "* (not False) or (not True)  "
   ]
  },
  {
   "cell_type": "markdown",
   "id": "46f50119",
   "metadata": {},
   "source": [
    "Ans: Value of the above expression is as follows:\n",
    "    \n",
    "    (5 > 4) and (3 == 5) --> False\n",
    "    not (5 > 4) --> False\n",
    "    (5 > 4) or (3 == 5) --> True\n",
    "    not ((5 > 4) or (3 == 5)) --> False\n",
    "    (True and True) and (True == False) --> False\n",
    "    (not False) or (not True) --> True\n"
   ]
  },
  {
   "cell_type": "code",
   "execution_count": 31,
   "id": "10a30a2e",
   "metadata": {},
   "outputs": [
    {
     "name": "stdout",
     "output_type": "stream",
     "text": [
      "False\n",
      "False\n",
      "True\n",
      "False\n",
      "False\n",
      "True\n"
     ]
    }
   ],
   "source": [
    "print((5 > 4) and (3 == 5))\n",
    "print(not (5 > 4))\n",
    "print((5 > 4) or (3 == 5))\n",
    "print(not ((5 > 4) or (3 == 5)))\n",
    "print((True and True) and (True == False))\n",
    "print((not False) or (not True))"
   ]
  },
  {
   "cell_type": "markdown",
   "id": "f7b82776",
   "metadata": {},
   "source": [
    "#### 5. What are the six comparison operators?"
   ]
  },
  {
   "cell_type": "markdown",
   "id": "be5743f3",
   "metadata": {},
   "source": [
    "Ans: The six comparision operators available in python are:\n",
    "\n",
    "`'=='`, `'!='`, `'<'`, `'>'`, `'<='`, `'>='`"
   ]
  },
  {
   "cell_type": "markdown",
   "id": "a27c9625",
   "metadata": {},
   "source": [
    "#### 6. How do you tell the difference between the equal to and assignment operators?Describe a condition and when you would use one ?"
   ]
  },
  {
   "cell_type": "markdown",
   "id": "bc6f1249",
   "metadata": {},
   "source": [
    "Ans: Assignment operators `'='` is used to assign or store the value to the variable where as the Equal to `'=='` is nothing but to check or compaire the the given condtion is equal to or not and give ressult in boolean 'True' or 'False'.\n",
    "for example:\n",
    "a = 5 # here value 5 is assigned to variable 'a'\n",
    "a == 5 # here 'equal to' condition checks the value of 'a' is equal to 5 or not.\n"
   ]
  },
  {
   "cell_type": "code",
   "execution_count": 37,
   "id": "faa30bb8",
   "metadata": {},
   "outputs": [
    {
     "name": "stdout",
     "output_type": "stream",
     "text": [
      "5\n",
      "True\n"
     ]
    }
   ],
   "source": [
    "a = 5\n",
    "print(a)\n",
    "print(a == 5)"
   ]
  },
  {
   "cell_type": "markdown",
   "id": "d3c68fc2",
   "metadata": {},
   "source": [
    "#### 7. Identify the three blocks in this code:\n",
    "spam = 0  \n",
    "if spam == 10:  \n",
    "print('eggs')  \n",
    "if spam > 5:  \n",
    "print('bacon')  \n",
    "else:  \n",
    "print('ham')  \n",
    "print('spam')  \n",
    "print('spam')"
   ]
  },
  {
   "cell_type": "code",
   "execution_count": 58,
   "id": "9295ef23",
   "metadata": {},
   "outputs": [
    {
     "name": "stdout",
     "output_type": "stream",
     "text": [
      "bacon\n",
      "spam\n",
      "spam\n"
     ]
    }
   ],
   "source": [
    "spam = 12\n",
    "if spam == 10:\n",
    "    print('eggs')\n",
    "if spam > 5:\n",
    "    print('bacon')\n",
    "else:\n",
    "    print('ham')\n",
    "print('spam')\n",
    "print('spam')"
   ]
  },
  {
   "cell_type": "markdown",
   "id": "c8685b83",
   "metadata": {},
   "source": [
    "#### 8. Write code that prints Hello if 1 is stored in spam, prints Howdy if 2 is stored in spam, and prints Greetings! if anything else is stored in spam."
   ]
  },
  {
   "cell_type": "code",
   "execution_count": 16,
   "id": "de3bc33d",
   "metadata": {},
   "outputs": [
    {
     "name": "stdout",
     "output_type": "stream",
     "text": [
      "Hello\n",
      "Howdy\n",
      "Greetings!\n"
     ]
    }
   ],
   "source": [
    "def spam_function(spam):\n",
    "    if spam == 1:\n",
    "        print('Hello')\n",
    "    elif spam == 2:\n",
    "        print('Howdy')\n",
    "    else:\n",
    "        print('Greetings!')\n",
    "spam_function(1)\n",
    "spam_function(2)  \n",
    "spam_function(3)"
   ]
  },
  {
   "cell_type": "markdown",
   "id": "30adec9f",
   "metadata": {},
   "source": [
    "#### 9.If your programme is stuck in an endless loop, what keys you’ll press?"
   ]
  },
  {
   "cell_type": "markdown",
   "id": "3e25f795",
   "metadata": {},
   "source": [
    "Ans: If the program is stuck in an endless loop then to exit from that loop press `Ctrl` `+` `c`"
   ]
  },
  {
   "cell_type": "markdown",
   "id": "5648be17",
   "metadata": {},
   "source": [
    "#### 10. How can you tell the difference between break and continue?"
   ]
  },
  {
   "cell_type": "markdown",
   "id": "c857a13b",
   "metadata": {},
   "source": [
    "Ans: if break condtion is satisfied then the `break` statement will move the execution outside the loop. Whereas the `continue` statement will move the execution to the start of the loop."
   ]
  },
  {
   "cell_type": "markdown",
   "id": "0d00ade5",
   "metadata": {},
   "source": [
    "#### 11. In a for loop, what is the difference between range(10), range(0, 10), and range(0, 10, 1)?"
   ]
  },
  {
   "cell_type": "markdown",
   "id": "d407f49b",
   "metadata": {},
   "source": [
    "Ans: range(10) --> loop starts from `0` to `9` excludes 10 \n",
    "\n",
    "range(0,10) --> loop explicitly starts from `0` and goes till `9`\n",
    "\n",
    "range(0,10,1) --> loop starts explicitly from `0` and goes till `9` with increase in foot step iteration of `1` only"
   ]
  },
  {
   "cell_type": "markdown",
   "id": "e8e51f17",
   "metadata": {},
   "source": [
    "#### 12. Write a short program that prints the numbers 1 to 10 using a for loop. Then write an equivalent program that prints the numbers 1 to 10 using a while loop ?"
   ]
  },
  {
   "cell_type": "code",
   "execution_count": 47,
   "id": "dffd746a",
   "metadata": {},
   "outputs": [
    {
     "name": "stdout",
     "output_type": "stream",
     "text": [
      "Using for loop 1\n",
      "Using for loop 2\n",
      "Using for loop 3\n",
      "Using for loop 4\n",
      "Using for loop 5\n",
      "Using for loop 6\n",
      "Using for loop 7\n",
      "Using for loop 8\n",
      "Using for loop 9\n",
      "Using for loop 10\n",
      "\n",
      "\n",
      "Using while loop 1\n",
      "Using while loop 2\n",
      "Using while loop 3\n",
      "Using while loop 4\n",
      "Using while loop 5\n",
      "Using while loop 6\n",
      "Using while loop 7\n",
      "Using while loop 8\n",
      "Using while loop 9\n",
      "Using while loop 10\n"
     ]
    }
   ],
   "source": [
    "for i in range(1,11):\n",
    "    print('Using for loop',i)\n",
    "print('\\n')\n",
    "def while_func(i):\n",
    "    while i <= 10:\n",
    "        print('Using while loop',i)\n",
    "        i = i+1\n",
    "while_func(1)\n",
    "    "
   ]
  },
  {
   "cell_type": "markdown",
   "id": "159d6843",
   "metadata": {},
   "source": [
    "#### 13. If you had a function named bacon() inside a module named spam, how would you call it after importing spam ?"
   ]
  },
  {
   "cell_type": "markdown",
   "id": "e7a35733",
   "metadata": {},
   "source": [
    "Ans: This function can be called with `spam.bacon()`"
   ]
  }
 ],
 "metadata": {
  "kernelspec": {
   "display_name": "Python 3 (ipykernel)",
   "language": "python",
   "name": "python3"
  },
  "language_info": {
   "codemirror_mode": {
    "name": "ipython",
    "version": 3
   },
   "file_extension": ".py",
   "mimetype": "text/x-python",
   "name": "python",
   "nbconvert_exporter": "python",
   "pygments_lexer": "ipython3",
   "version": "3.9.12"
  }
 },
 "nbformat": 4,
 "nbformat_minor": 5
}
