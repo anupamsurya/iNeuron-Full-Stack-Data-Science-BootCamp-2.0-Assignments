{
 "cells": [
  {
   "cell_type": "markdown",
   "id": "08a0c579",
   "metadata": {},
   "source": [
    "# Assignment 1 Solutions"
   ]
  },
  {
   "cell_type": "markdown",
   "id": "9666a3ab",
   "metadata": {},
   "source": [
    "#### 1. In the below elements which of them are values or an expression? eg:- values can be integer or string and expressions will be mathematical operators..\n",
    "`*`,`'hello'`, `-87.8`,`-`,`/`,`+`,`6`\n",
    "\n",
    "Ans: Following are the values or an expression:\n",
    "\n",
    "    Values: 'hello', -87.8, 6\n",
    "    Expression:*, -, /, +"
   ]
  },
  {
   "cell_type": "markdown",
   "id": "be7c1b77",
   "metadata": {},
   "source": [
    "#### 2. What is the difference between string and variable?\n",
    "\n",
    "Ans: String is nothing but the data type which can be charector or group of charectors enclosed in double quotes\" \" , single quotes' ' or triple quote''' '''. Where as variable stores the information. String can be store in variable."
   ]
  },
  {
   "cell_type": "markdown",
   "id": "daf07df0",
   "metadata": {},
   "source": [
    "#### 3. Describe three different Data Types ?\n",
    "\n",
    "Ans:\n",
    "1) String : A string is a collection of one or more characters put in a single quote, double-quote or triple quote.\n",
    "\n",
    "2) integer : int is nothing but positive or negative whole numbers (without fraction or decimal)\n",
    "\n",
    "3) float : float is nothing but positive or negative real number with floating point representation (decimal values)\n"
   ]
  },
  {
   "cell_type": "code",
   "execution_count": 1,
   "id": "0d39100d",
   "metadata": {},
   "outputs": [
    {
     "name": "stdout",
     "output_type": "stream",
     "text": [
      "Anupam <class 'str'>\n",
      "1234 <class 'int'>\n",
      "3.45 <class 'float'>\n"
     ]
    }
   ],
   "source": [
    "s = 'Anupam'\n",
    "print(s, type(s))\n",
    "i = 1234\n",
    "print(i, type(i))\n",
    "f = 3.45\n",
    "print(f, type(f))\n"
   ]
  },
  {
   "cell_type": "markdown",
   "id": "4a8c33c2",
   "metadata": {},
   "source": [
    "#### 4. What is an expression made up of? What do all expressions do?\n",
    "\n",
    "Ans: An expression is made up of values, variables, operators and calls to functions and it need to be evaluated. An expression, evaluates the expression and displays the result, like if we ask python to print the below expression (4+5) it will evaluate it and prints the result(9)."
   ]
  },
  {
   "cell_type": "code",
   "execution_count": 2,
   "id": "8f65e542",
   "metadata": {},
   "outputs": [
    {
     "data": {
      "text/plain": [
       "9"
      ]
     },
     "execution_count": 2,
     "metadata": {},
     "output_type": "execute_result"
    }
   ],
   "source": [
    "4+5 # 4+5 this is an expression and the python interpreter evaluates it to 9"
   ]
  },
  {
   "cell_type": "markdown",
   "id": "97556168",
   "metadata": {},
   "source": [
    "#### 5.This assignment statements, like spam = 10. What is the difference between an expression and a statement?\n",
    "\n",
    "Ans: In the above assignment statement spam = 10, spam is variable name and 10 is its value.\n",
    "A statement is an instruction that a Python interpreter can execute. It means each line in a Python script is a statement. Where as an expression is made up of values, variables, operators and calls to functions and it need to be evaluated. \n"
   ]
  },
  {
   "cell_type": "code",
   "execution_count": 3,
   "id": "f42ef8ee",
   "metadata": {},
   "outputs": [
    {
     "name": "stdout",
     "output_type": "stream",
     "text": [
      "this is an print statement\n"
     ]
    }
   ],
   "source": [
    "4+5 # this is an expression\n",
    "s = 'this is an assignment statement'\n",
    "print('this is an print statement')"
   ]
  },
  {
   "cell_type": "markdown",
   "id": "175be572",
   "metadata": {},
   "source": [
    "#### 6.After running the following code, what does the variable bacon contain?\n",
    "`bacon = 22`  \n",
    "`bacon + 1`\n",
    "\n",
    "Ans: The variable 'bacon' contain the value of 22 only as 'bacon + 1' does not reassign new value to variable 'bacon' rather if the code would be like 'bacon = bacon + 1' then it adds the value 1 to the 'bacon' value 22 and become 23."
   ]
  },
  {
   "cell_type": "code",
   "execution_count": 4,
   "id": "d7df91bf",
   "metadata": {},
   "outputs": [
    {
     "name": "stdout",
     "output_type": "stream",
     "text": [
      "Example case-1 out put: 22\n",
      "Example case-2 out put: 23\n"
     ]
    }
   ],
   "source": [
    "#Case-1\n",
    "bacon = 22\n",
    "bacon + 1\n",
    "print('Example case-1 out put:', bacon)\n",
    "#Case-2\n",
    "bacon = 22\n",
    "bacon = bacon + 1\n",
    "print('Example case-2 out put:', bacon)"
   ]
  },
  {
   "cell_type": "markdown",
   "id": "474ca8d5",
   "metadata": {},
   "source": [
    "#### 7.What should the values of the following two terms be?  \n",
    "`'spam'+'spamspam'`  \n",
    "`'spam'*3`\n",
    "Ans: `'spam'+'spamspam'` as both are the strings then it concates and output become new string 'spamspamspam' and in `'spam'*3` the first string multiplies itself and the output is the same as previous one that is 'spamspamspam'."
   ]
  },
  {
   "cell_type": "code",
   "execution_count": 5,
   "id": "62c13b10",
   "metadata": {},
   "outputs": [
    {
     "name": "stdout",
     "output_type": "stream",
     "text": [
      "spamspamspam\n",
      "spamspamspam\n"
     ]
    }
   ],
   "source": [
    "print('spam'+'spamspam') # string concatenation\n",
    "print('spam'*3) # string multiplication"
   ]
  },
  {
   "cell_type": "markdown",
   "id": "81da505a",
   "metadata": {},
   "source": [
    "#### 8. Why is eggs a valid variable name while 100 is invalid?\n",
    "\n",
    "Ans: As per python, variable name can not begin with number. The python rules for naming a variable are :-\n",
    "\n",
    "    1.Variable name must start with a letter or the underscore character.\n",
    "    2.Variable name cannot start with a number.\n",
    "    3.Variable name can only contain alpha-numeric characters and underscores (A-z, 0-9, & _ ).\n",
    "    4.Variable names are case-sensitive (name, INEURON and ineuron are three different variables).\n",
    "    5.The reserved words(keywords) cannot be used naming the variable.\n"
   ]
  },
  {
   "cell_type": "markdown",
   "id": "948b071b",
   "metadata": {},
   "source": [
    "#### 9. What three functions can be used to get the integer, floating-point number, or string version of a value?\n",
    "\n",
    "Ans: The int(),float(),and str() are the three functions used to get the integer,floating-point number,string version of the value passed to them."
   ]
  },
  {
   "cell_type": "code",
   "execution_count": 6,
   "id": "2499930a",
   "metadata": {},
   "outputs": [
    {
     "name": "stdout",
     "output_type": "stream",
     "text": [
      "int(99) is an integer--> <class 'int'>\n",
      "float(99) is an float--> <class 'float'>\n",
      "str(99) is an string--> <class 'str'>\n"
     ]
    }
   ],
   "source": [
    "a = int(99) \n",
    "print('int(99) is an integer-->',type(a))\n",
    "b = float(99)\n",
    "print('float(99) is an float-->', type(b))\n",
    "c = str(99)\n",
    "print('str(99) is an string-->', type(c))"
   ]
  },
  {
   "cell_type": "markdown",
   "id": "7ec3a0e8",
   "metadata": {},
   "source": [
    "#### 10. Why does this expression cause an error? How can you fix it?\n",
    "'I have eaten ' + 99 + ' burritos.'\n",
    "\n",
    "Ans: 'I have eaten ' is string where as 99 is an integer so it will not concatenate. string can be concatenate with string to solve the error we need to do 99 typecasted to string by str(99).\n"
   ]
  },
  {
   "cell_type": "code",
   "execution_count": 7,
   "id": "756e582b",
   "metadata": {},
   "outputs": [
    {
     "name": "stdout",
     "output_type": "stream",
     "text": [
      "I have eaten 99 burritos\n"
     ]
    }
   ],
   "source": [
    "print('I have eaten '+str(99)+' burritos')"
   ]
  }
 ],
 "metadata": {
  "kernelspec": {
   "display_name": "Python 3 (ipykernel)",
   "language": "python",
   "name": "python3"
  },
  "language_info": {
   "codemirror_mode": {
    "name": "ipython",
    "version": 3
   },
   "file_extension": ".py",
   "mimetype": "text/x-python",
   "name": "python",
   "nbconvert_exporter": "python",
   "pygments_lexer": "ipython3",
   "version": "3.9.12"
  }
 },
 "nbformat": 4,
 "nbformat_minor": 5
}
