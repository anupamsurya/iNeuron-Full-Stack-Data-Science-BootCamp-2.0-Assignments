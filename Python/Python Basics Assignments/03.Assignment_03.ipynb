{
 "cells": [
  {
   "cell_type": "markdown",
   "id": "c9f2fbd4",
   "metadata": {},
   "source": [
    "# Assignment 3 Solutions"
   ]
  },
  {
   "cell_type": "markdown",
   "id": "0483f0f2",
   "metadata": {},
   "source": [
    "#### 1. Why are functions advantageous to have in your programs?"
   ]
  },
  {
   "cell_type": "markdown",
   "id": "b2761f99",
   "metadata": {},
   "source": [
    "Ans: Functions advantages are as follows:\n",
    "        * No need to write same code again and again.\n",
    "        * Function increases code readability\n",
    "        * Function increases code reusability\n",
    "        * Function makes program shorter, easy to read and easy to update."
   ]
  },
  {
   "cell_type": "markdown",
   "id": "be236c01",
   "metadata": {},
   "source": [
    "#### 2. When does the code in a function run: when it's specified or when it's called?"
   ]
  },
  {
   "cell_type": "markdown",
   "id": "7bcef884",
   "metadata": {},
   "source": [
    "Ans: The code in a function executes when the function is called, not when the function is specified."
   ]
  },
  {
   "cell_type": "markdown",
   "id": "f0e2b45c",
   "metadata": {},
   "source": [
    "#### 3. What statement creates a function?"
   ]
  },
  {
   "cell_type": "markdown",
   "id": "cebb85dc",
   "metadata": {},
   "source": [
    "Ans: The statement `def` creates a function.\n",
    "\n",
    "Syntax of Function:\n",
    "\n",
    "`def function_name(parameters):\n",
    "    \"\"\"doc string\"\"\"          \n",
    "    -----function body-----\n",
    "    -----function body-----\n",
    "    return value`"
   ]
  },
  {
   "cell_type": "markdown",
   "id": "1875dab7",
   "metadata": {},
   "source": [
    "#### 4. What is the difference between a function and a function call?"
   ]
  },
  {
   "cell_type": "markdown",
   "id": "0e293080",
   "metadata": {},
   "source": [
    "Ans: A function is procedure to achieve a particular result and when that function is called then the fuctions achives that task. In order to achive any fuctions perticular task it need to be called first as function call."
   ]
  },
  {
   "cell_type": "markdown",
   "id": "0823f4a1",
   "metadata": {},
   "source": [
    "#### 5. How many global scopes are there in a Python program? How many local scopes?"
   ]
  },
  {
   "cell_type": "markdown",
   "id": "d59c23bc",
   "metadata": {},
   "source": [
    "Ans: There is one global scope, and a local scope is created whenever a function is called."
   ]
  },
  {
   "cell_type": "markdown",
   "id": "f1eabd39",
   "metadata": {},
   "source": [
    "#### 6. What happens to variables in a local scope when the function call returns?"
   ]
  },
  {
   "cell_type": "markdown",
   "id": "e6700322",
   "metadata": {},
   "source": [
    "Ans: When a function call returns, the local scope is destroyed, and all the variables in it are forgotten."
   ]
  },
  {
   "cell_type": "markdown",
   "id": "f5f30d4c",
   "metadata": {},
   "source": [
    "#### 7. What is the concept of a return value? Is it possible to have a return value in an expression?"
   ]
  },
  {
   "cell_type": "markdown",
   "id": "6b26104a",
   "metadata": {},
   "source": [
    "Ans:  A return value is the value that a function call evaluates to. Like any value, a return value can be used as part of an expression."
   ]
  },
  {
   "cell_type": "markdown",
   "id": "97706838",
   "metadata": {},
   "source": [
    "#### 8. If a function does not have a return statement, what is the return value of a call to that function?"
   ]
  },
  {
   "cell_type": "markdown",
   "id": "6564fd41",
   "metadata": {},
   "source": [
    "Ans: If a function does not have a return statement then its return value is None."
   ]
  },
  {
   "cell_type": "markdown",
   "id": "5ab9870f",
   "metadata": {},
   "source": [
    "#### 9. How do you make a function variable refer to the global variable?"
   ]
  },
  {
   "cell_type": "markdown",
   "id": "451efbc1",
   "metadata": {},
   "source": [
    "Ans: To make variable global in a fuction need to use `global` keyword to declear that variable global."
   ]
  },
  {
   "cell_type": "markdown",
   "id": "b125132b",
   "metadata": {},
   "source": [
    "#### 10. What is the data type of None?"
   ]
  },
  {
   "cell_type": "markdown",
   "id": "e0f74b66",
   "metadata": {},
   "source": [
    "Ans: The data type of `None` is `NoneType`."
   ]
  },
  {
   "cell_type": "markdown",
   "id": "bbf02c0f",
   "metadata": {},
   "source": [
    "#### 11. What does the sentence import areallyourpetsnamederic do?"
   ]
  },
  {
   "cell_type": "markdown",
   "id": "47ae43f7",
   "metadata": {},
   "source": [
    "Ans: The `import` statement imports a module named `areallyourpetsnamederic`."
   ]
  },
  {
   "cell_type": "markdown",
   "id": "91b9168e",
   "metadata": {},
   "source": [
    "#### 12. If you had a bacon() feature in a spam module, what would you call it after importing spam?"
   ]
  },
  {
   "cell_type": "markdown",
   "id": "227b2f84",
   "metadata": {},
   "source": [
    "Ans: The function can be called with `spam.bacon()`."
   ]
  },
  {
   "cell_type": "markdown",
   "id": "757a682c",
   "metadata": {},
   "source": [
    "#### 13. What can you do to save a programme from crashing if it encounters an error?"
   ]
  },
  {
   "cell_type": "markdown",
   "id": "13788049",
   "metadata": {},
   "source": [
    "Ans: To avaoid programme from crashing one can place the line of code that might cause an error in a `try` clause and use except `block` to handle the error."
   ]
  },
  {
   "cell_type": "markdown",
   "id": "60866b36",
   "metadata": {},
   "source": [
    "#### 14. What is the purpose of the try clause? What is the purpose of the except clause?"
   ]
  },
  {
   "cell_type": "markdown",
   "id": "1fc61972",
   "metadata": {},
   "source": [
    "Ans: The code that could potentially cause an error goes in the `try` clause. The code that executes if an error happens goes in the `except` clause."
   ]
  }
 ],
 "metadata": {
  "kernelspec": {
   "display_name": "Python 3 (ipykernel)",
   "language": "python",
   "name": "python3"
  },
  "language_info": {
   "codemirror_mode": {
    "name": "ipython",
    "version": 3
   },
   "file_extension": ".py",
   "mimetype": "text/x-python",
   "name": "python",
   "nbconvert_exporter": "python",
   "pygments_lexer": "ipython3",
   "version": "3.9.12"
  }
 },
 "nbformat": 4,
 "nbformat_minor": 5
}
