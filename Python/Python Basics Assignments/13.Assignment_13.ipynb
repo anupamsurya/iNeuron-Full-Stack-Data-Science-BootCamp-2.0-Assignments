{
 "cells": [
  {
   "cell_type": "markdown",
   "id": "09b658aa",
   "metadata": {},
   "source": [
    "# Assignment 13 Solutions"
   ]
  },
  {
   "cell_type": "markdown",
   "id": "5e4e944d",
   "metadata": {},
   "source": [
    "#### 1. What advantages do Excel spreadsheets have over CSV spreadsheets?"
   ]
  },
  {
   "cell_type": "markdown",
   "id": "9879c0f1",
   "metadata": {},
   "source": [
    "Ans: The Advantages of Excel spreedsheets over CSV spreadsheets are:\n",
    "\n",
    "1. Excel (XLS and XLSX) file formats are better for storing and analysing complex data.\n",
    "2. An Excel not only stores data but can also do operations on the data using macros, formulas etc\n",
    "3. CSV files are plain-text files, Does not contain formatting, formulas, macros, etc. It is also known as flat files"
   ]
  },
  {
   "cell_type": "markdown",
   "id": "598c83fe",
   "metadata": {},
   "source": [
    "#### 2.What do you pass to csv.reader() and csv.writer() to create reader and writer objects?"
   ]
  },
  {
   "cell_type": "code",
   "execution_count": null,
   "id": "aa6e566a",
   "metadata": {},
   "outputs": [],
   "source": [
    "import csv\n",
    "with open('test.csv','r') as file:\n",
    "    csv_file = csv.reader(file, delimiter=',')\n",
    "    for i in csv_file:\n",
    "        print(i)"
   ]
  },
  {
   "cell_type": "markdown",
   "id": "aec64751",
   "metadata": {},
   "source": [
    "#### 3. What modes do File objects for reader and writer objects need to be opened in?"
   ]
  },
  {
   "cell_type": "markdown",
   "id": "d8e1f809",
   "metadata": {},
   "source": [
    "Ans: For `csv.reader(iterable_file_object)`, the file objects needed to be opened in `read` mode `mode='r'` Whereas for `csv.writer(iterable_file_object)` the file objects needed to be opened in `write` mode `mode='w'`"
   ]
  },
  {
   "cell_type": "markdown",
   "id": "3cfacee3",
   "metadata": {},
   "source": [
    "#### 4. What method takes a list argument and writes it to a CSV file?"
   ]
  },
  {
   "cell_type": "markdown",
   "id": "2902e204",
   "metadata": {},
   "source": [
    "Ans: `csv.writer` class provides two methods for writing to CSV. They are `writerow()` and `writerows()`. `writerow()` method writes a `single row` at a time. Whereas `writerows()` method is used to write `multiple rows` at a time."
   ]
  },
  {
   "cell_type": "code",
   "execution_count": 2,
   "id": "f22cc041",
   "metadata": {},
   "outputs": [],
   "source": [
    "#example:\n",
    "import csv      \n",
    "column_names = ['Emp_Name', 'Department', 'Experience', 'Salary'] #column names \n",
    "rows = [ \n",
    "            ['Ram', 'Production', '2', '60000'],  # data rows of csv file \n",
    "            ['Sham', 'Sales', '2', '70000'], \n",
    "            ['Ravi', 'IT', '3', '80000']\n",
    "       ] \n",
    "with open(\"employee_details.csv\", 'w') as csvfile: \n",
    "    csvwriter = csv.writer(csvfile) # creating a csv writer object \n",
    "    csvwriter.writerow(column_names) # writing the fields \n",
    "    csvwriter.writerows(rows) # writing the data rows "
   ]
  },
  {
   "cell_type": "markdown",
   "id": "0f3eada0",
   "metadata": {},
   "source": [
    "#### 5. What do the keyword arguments delimiter and line terminator do?"
   ]
  },
  {
   "cell_type": "markdown",
   "id": "288cac50",
   "metadata": {},
   "source": [
    "Ans: In csv file mostly `','` is Delimiter. We can use any Character as per our needs if required. Similarly Line Terminator comes at end of line by default it is `newline` and can be changed accourding to Requirement."
   ]
  },
  {
   "cell_type": "markdown",
   "id": "1b274bd8",
   "metadata": {},
   "source": [
    "#### 6. What function takes a string of JSON data and returns a Python data structure?"
   ]
  },
  {
   "cell_type": "markdown",
   "id": "d20935e1",
   "metadata": {},
   "source": [
    "Ans: `loads()` method takes a string of JSON data and returns a Python data structure."
   ]
  },
  {
   "cell_type": "markdown",
   "id": "baf9dbef",
   "metadata": {},
   "source": [
    "#### 7. What function takes a Python data structure and returns a string of JSON data?"
   ]
  },
  {
   "cell_type": "markdown",
   "id": "0f37c34c",
   "metadata": {},
   "source": [
    "Ans: `dumps()` method takes a python data structure and returns a string of JSON data"
   ]
  }
 ],
 "metadata": {
  "kernelspec": {
   "display_name": "Python 3 (ipykernel)",
   "language": "python",
   "name": "python3"
  },
  "language_info": {
   "codemirror_mode": {
    "name": "ipython",
    "version": 3
   },
   "file_extension": ".py",
   "mimetype": "text/x-python",
   "name": "python",
   "nbconvert_exporter": "python",
   "pygments_lexer": "ipython3",
   "version": "3.9.12"
  }
 },
 "nbformat": 4,
 "nbformat_minor": 5
}
